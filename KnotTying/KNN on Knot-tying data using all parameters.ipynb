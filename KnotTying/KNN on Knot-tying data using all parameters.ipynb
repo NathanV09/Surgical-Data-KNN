{
 "cells": [
  {
   "cell_type": "code",
   "execution_count": 15,
   "metadata": {
    "collapsed": true
   },
   "outputs": [],
   "source": [
    "import numpy as np\n",
    "from sklearn.datasets import *\n",
    "from sklearn import neighbors\n",
    "import matplotlib.pyplot as plt\n",
    "import _csv\n",
    "%matplotlib inline"
   ]
  },
  {
   "cell_type": "code",
   "execution_count": 18,
   "metadata": {},
   "outputs": [
    {
     "name": "stdout",
     "output_type": "stream",
     "text": [
      "0.694444444444\n"
     ]
    }
   ],
   "source": [
    "with open(\"features.txt\", 'r') as f:\n",
    "    features = list(_csv.reader(f, delimiter=\" \"))\n",
    "with open(\"labels.txt\", 'r') as f:\n",
    "    labels = list(_csv.reader(f, delimiter=\" \"))\n",
    "\n",
    "#prune off excess data, clean up format of the data\n",
    "del features[0]\n",
    "del labels[0]\n",
    "for i in range(len(features)):\n",
    "    del features[i][0]\n",
    "for i in range(len(features)):\n",
    "    for j in range(len(features[i])):\n",
    "        features[i][j] = float(features[i][j])\n",
    "features = np.array(features).T.tolist()  # transpose the matrix to make it easier to read\n",
    "\n",
    "temp_labels = labels\n",
    "success = 0\n",
    "for t in range(1, 10):\n",
    "    temp_features=[]\n",
    "    for i in range(len(features)):\n",
    "        temp_row=[]\n",
    "        for j in features[i]:\n",
    "            temp_row.append(j)\n",
    "        temp_features.append(temp_row)\n",
    "    test_indices = []\n",
    "    filename = \"experiments/fold\" + str(t) + \"_test.txt\"\n",
    "    with open(filename, 'r') as f:\n",
    "        test_indices = list(_csv.reader(f, delimiter=\",\"))\n",
    "    test_indices = [x[0] for x in test_indices]\n",
    "    test_indices = [int(x) for x in test_indices]\n",
    "\n",
    "    # divide the feature data into training and testing samples\n",
    "    features_test = []\n",
    "\n",
    "    for i in range(len(features)):\n",
    "        test_row = []\n",
    "        a = sum(features[i]) / len(features[i])  # average of features[i]\n",
    "        for j in range(len(features[i])):\n",
    "            features[i][j] /= a\n",
    "            if j in test_indices:\n",
    "                test_row.append(features[i][j])\n",
    "                features[i][j] = -1\n",
    "        features_test.append(test_row)\n",
    "    for i in range(len(features)):\n",
    "        features[i] = [x for x in features[i] if x != -1]\n",
    "    feature_Arr_train = np.array(features).T\n",
    "    feature_Arr_test = np.array(features_test).T\n",
    "\n",
    "    # divide the label data into training and testing samples\n",
    "    level_test = []\n",
    "    levels = [labels[x][1] for x in range(len(labels))]\n",
    "    for i in range(len(levels)):\n",
    "        if i in test_indices:\n",
    "            level_test.append(levels[i])\n",
    "            levels[i] = -1\n",
    "    levels = [x for x in levels if x != -1]\n",
    "    level_Arr_train = np.array(levels)\n",
    "    level_Arr_test = np.array(level_test)\n",
    "\n",
    "    # fit the model to the two parameters\n",
    "\n",
    "    model = neighbors.KNeighborsClassifier(n_neighbors=len(level_Arr_train), weights='distance')\n",
    "\n",
    "    model.fit(feature_Arr_train, level_Arr_train)\n",
    "    # check for accuracy\n",
    "    for i in range(len(level_Arr_test)):\n",
    "        # print feature_Arr_test[i]\n",
    "        test_point = np.reshape(feature_Arr_test[i], (1, 8))\n",
    "        # print test_point\n",
    "        if model.predict(test_point)[0] == level_Arr_test[i]:\n",
    "            success += 1\n",
    "    features = temp_features\n",
    "    labels = temp_labels\n",
    "print success / float(36)"
   ]
  },
  {
   "cell_type": "code",
   "execution_count": null,
   "metadata": {
    "collapsed": true
   },
   "outputs": [],
   "source": []
  }
 ],
 "metadata": {
  "kernelspec": {
   "display_name": "Python 2",
   "language": "python",
   "name": "python2"
  },
  "language_info": {
   "codemirror_mode": {
    "name": "ipython",
    "version": 2
   },
   "file_extension": ".py",
   "mimetype": "text/x-python",
   "name": "python",
   "nbconvert_exporter": "python",
   "pygments_lexer": "ipython2",
   "version": "2.7.13"
  }
 },
 "nbformat": 4,
 "nbformat_minor": 2
}
