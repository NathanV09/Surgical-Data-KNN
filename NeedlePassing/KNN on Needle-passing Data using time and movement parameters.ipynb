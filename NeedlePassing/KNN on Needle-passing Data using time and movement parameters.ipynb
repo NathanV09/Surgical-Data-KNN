{
 "cells": [
  {
   "cell_type": "code",
   "execution_count": 3,
   "metadata": {
    "collapsed": true
   },
   "outputs": [],
   "source": [
    "import numpy as np\n",
    "from sklearn.datasets import *\n",
    "from sklearn import neighbors\n",
    "\n",
    "import matplotlib.pyplot as plt\n",
    "%matplotlib inline"
   ]
  },
  {
   "cell_type": "code",
   "execution_count": 4,
   "metadata": {},
   "outputs": [
    {
     "name": "stdout",
     "output_type": "stream",
     "text": [
      "0.642857142857\n"
     ]
    },
    {
     "data": {
      "image/png": "[encoded data removed]",
      "text/plain": [
       "<matplotlib.figure.Figure at 0x9cf2b38>"
      ]
     },
     "metadata": {},
     "output_type": "display_data"
    }
   ],
   "source": [
    "import _csv\n",
    "with open(\"features.txt\",'r') as f:\n",
    "    features=list(_csv.reader(f, delimiter=\" \"))\n",
    "with open(\"labels.txt\",'r') as f:\n",
    "    labels=list(_csv.reader(f, delimiter=\" \"))\n",
    "del features[0]\n",
    "del labels[0]\n",
    "for i in range(len(features)):\n",
    "    del features[i][0]\n",
    "    \n",
    "for i in range(len(features)):\n",
    "    for j in range(len(features[i])):\n",
    "        features[i][j]=float(features[i][j])\n",
    "                \n",
    "success=0            \n",
    "for t in range(1,10):\n",
    "    filename=\"experiments/fold\"+str(t)+\"_test.txt\"\n",
    "    with open(filename, 'r') as f:\n",
    "        test_indices=list(_csv.reader(f, delimiter=\",\"))\n",
    "    test_indices=[x[0] for x in test_indices]\n",
    "    test_indices=[int(x) for x in test_indices]\n",
    "    \n",
    "    #divide the time data into training and testing samples\n",
    "    time_test=[]\n",
    "    times=[features[x][0] for x in range(len(features))]\n",
    "    a=sum(times)/len(times)#average of times\n",
    "    for i in range(len(times)):\n",
    "        times[i]/=a\n",
    "    for i in range(len(times)):\n",
    "        if i in test_indices:\n",
    "            time_test.append(times[i])\n",
    "            times[i]=-1       \n",
    "    times=[x for x in times if x!=-1]\n",
    "    time_Arr_test=np.array(time_test)\n",
    "    time_Arr_train=np.array(times)\n",
    "\n",
    "    #divide the movement data into training and testing samples\n",
    "    movement_test=[]\n",
    "    movements=[features[x][3] for x in range(len(features))]\n",
    "    a=sum(movements)/len(movements)#average of movements\n",
    "    for i in range(len(movements)):\n",
    "        movements[i]/=a\n",
    "    for i in range(len(movements)):\n",
    "        if i in test_indices:\n",
    "            movement_test.append(movements[i])\n",
    "            movements[i]=-1\n",
    "    movements=[x for x in movements if x!=-1]\n",
    "    movement_Arr_train=np.array(movements)\n",
    "    movement_Arr_test=np.array(movement_test)\n",
    "\n",
    "    #divide the label data into training and testing samples\n",
    "    level_test=[]\n",
    "    levels=[labels[x][1] for x in range(len(labels))]\n",
    "    for i in range(len(levels)):\n",
    "        if i in test_indices:\n",
    "            level_test.append(levels[i])\n",
    "            levels[i]=-1\n",
    "    levels=[x for x in levels if x!=-1]\n",
    "    level_Arr_train=np.array(levels)\n",
    "    level_Arr_test=np.array(level_test)\n",
    "    \n",
    "    #Print out a sample of the data, using the 9th test\n",
    "    C=[]\n",
    "    for i in range(len(level_Arr_train)):\n",
    "        if level_Arr_train[i]=='N':\n",
    "            C.append('b')\n",
    "        elif level_Arr_train[i]=='I':\n",
    "            C.append('orange')\n",
    "        elif level_Arr_train[i]=='E':\n",
    "            C.append('g')\n",
    "    D=[]\n",
    "    for i in range(len(level_Arr_test)):\n",
    "        if level_Arr_test[i]=='N':\n",
    "            D.append('b')\n",
    "        elif level_Arr_test[i]=='I':\n",
    "            D.append('orange')\n",
    "        elif level_Arr_test[i]=='E':\n",
    "            D.append('g')\n",
    "    if t==9:    \n",
    "        plt.scatter(time_Arr_train, movement_Arr_train, c=C)\n",
    "        plt.scatter(time_Arr_test, movement_Arr_test, c=D, marker='x')\n",
    "    \n",
    "    #fit the model to the two parameters\n",
    "    model = neighbors.KNeighborsClassifier(n_neighbors=len(level_Arr_train), weights='distance')\n",
    "    X=np.vstack((time_Arr_train, movement_Arr_train)).T\n",
    "    model.fit(X, level_Arr_train)\n",
    "    \n",
    "    #check for accuracy\n",
    "    for i in range(len(level_Arr_test)):\n",
    "        test_point=np.reshape([time_Arr_test[i], movement_Arr_test[i]], (1,2))\n",
    "        if model.predict(test_point)[0]==level_Arr_test[i]:\n",
    "            success+=1\n",
    "print success/float(28)\n",
    "            "
   ]
  },
  {
   "cell_type": "code",
   "execution_count": null,
   "metadata": {
    "collapsed": true
   },
   "outputs": [],
   "source": []
  }
 ],
 "metadata": {
  "kernelspec": {
   "display_name": "Python 2",
   "language": "python",
   "name": "python2"
  },
  "language_info": {
   "codemirror_mode": {
    "name": "ipython",
    "version": 2
   },
   "file_extension": ".py",
   "mimetype": "text/x-python",
   "name": "python",
   "nbconvert_exporter": "python",
   "pygments_lexer": "ipython2",
   "version": "2.7.13"
  }
 },
 "nbformat": 4,
 "nbformat_minor": 2
}
